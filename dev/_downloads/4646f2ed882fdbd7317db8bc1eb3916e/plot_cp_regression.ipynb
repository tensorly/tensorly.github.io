{
  "cells": [
    {
      "cell_type": "markdown",
      "metadata": {},
      "source": [
        "\n# CP tensor regression\n\nExample on how to use :class:`tensorly.regression.cp_regression.CPRegressor` to perform tensor regression.\n"
      ]
    },
    {
      "cell_type": "code",
      "execution_count": null,
      "metadata": {
        "collapsed": false
      },
      "outputs": [],
      "source": [
        "import matplotlib.pyplot as plt\nfrom tensorly.base import tensor_to_vec, partial_tensor_to_vec\nfrom tensorly.datasets.synthetic import gen_image\nfrom tensorly.regression.cp_regression import CPRegressor\nimport tensorly as tl\n\n# Parameter of the experiment\nimage_height = 25\nimage_width = 25\n# shape of the images\npatterns = ['rectangle', 'swiss', 'circle']\n# ranks to test\nranks = [1, 2, 3, 4, 5]\n\n# Generate random samples\nrng = tl.check_random_state(1)\nX = tl.tensor(rng.normal(size=(1000, image_height, image_width), loc=0, scale=1))\n\n\n# Parameters of the plot, deduced from the data\nn_rows = len(patterns)\nn_columns = len(ranks) + 1\n# Plot the three images\nfig = plt.figure()\n\nfor i, pattern in enumerate(patterns):\n\n    # Generate the original image\n    weight_img = gen_image(region=pattern, image_height=image_height, image_width=image_width)\n    weight_img = tl.tensor(weight_img)\n\n    # Generate the labels\n    y = tl.dot(partial_tensor_to_vec(X, skip_begin=1), tensor_to_vec(weight_img))\n\n    # Plot the original weights\n    ax = fig.add_subplot(n_rows, n_columns, i*n_columns + 1)\n    ax.imshow(tl.to_numpy(weight_img), cmap=plt.cm.OrRd, interpolation='nearest')\n    ax.set_axis_off()\n    if i == 0:\n        ax.set_title('Original\\nweights')\n\n    for j, rank in enumerate(ranks):\n\n        # Create a tensor Regressor estimator\n        estimator = CPRegressor(weight_rank=rank, tol=10e-7, n_iter_max=100, reg_W=1, verbose=0)\n\n        # Fit the estimator to the data\n        estimator.fit(X, y)\n\n        ax = fig.add_subplot(n_rows, n_columns, i*n_columns + j + 2)\n        ax.imshow(tl.to_numpy(estimator.weight_tensor_), cmap=plt.cm.OrRd, interpolation='nearest')\n        ax.set_axis_off()\n\n        if i == 0:\n            ax.set_title('Learned\\nrank = {}'.format(rank))\n\nplt.suptitle(\"CP tensor regression\")\nplt.show()"
      ]
    }
  ],
  "metadata": {
    "kernelspec": {
      "display_name": "Python 3",
      "language": "python",
      "name": "python3"
    },
    "language_info": {
      "codemirror_mode": {
        "name": "ipython",
        "version": 3
      },
      "file_extension": ".py",
      "mimetype": "text/x-python",
      "name": "python",
      "nbconvert_exporter": "python",
      "pygments_lexer": "ipython3",
      "version": "3.12.4"
    }
  },
  "nbformat": 4,
  "nbformat_minor": 0
}
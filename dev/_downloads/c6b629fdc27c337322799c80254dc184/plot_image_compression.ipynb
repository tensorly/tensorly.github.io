{
  "cells": [
    {
      "cell_type": "markdown",
      "metadata": {},
      "source": [
        "\n# Image compression via tensor decomposition\n\nExample on how to use :func:`tensorly.decomposition.parafac` and :func:`tensorly.decomposition.tucker` on images.\n"
      ]
    },
    {
      "cell_type": "code",
      "execution_count": null,
      "metadata": {
        "collapsed": false
      },
      "outputs": [],
      "source": [
        "import matplotlib.pyplot as plt\nimport tensorly as tl\nimport numpy as np\nfrom scipy.misc import face\nfrom scipy.ndimage import zoom\nfrom tensorly.decomposition import parafac\nfrom tensorly.decomposition import tucker\nfrom math import ceil\n\n\nrandom_state = 12345\n\nimage = face()\nimage = tl.tensor(zoom(face(), (0.3, 0.3, 1)), dtype='float64')\n\ndef to_image(tensor):\n    \"\"\"A convenience function to convert from a float dtype back to uint8\"\"\"\n    im = tl.to_numpy(tensor)\n    im -= im.min()\n    im /= im.max()\n    im *= 255\n    return im.astype(np.uint8)\n\n# Rank of the CP decomposition\ncp_rank = 25\n# Rank of the Tucker decomposition\ntucker_rank = [100, 100, 2]\n\n# Perform the CP decomposition\nweights, factors = parafac(image, rank=cp_rank, init='random', tol=10e-6)\n# Reconstruct the image from the factors\ncp_reconstruction = tl.cp_to_tensor((weights, factors))\n\n# Tucker decomposition\ncore, tucker_factors = tucker(image, rank=tucker_rank, init='random', tol=10e-5, random_state=random_state)\ntucker_reconstruction = tl.tucker_to_tensor((core, tucker_factors))\n\n# Plotting the original and reconstruction from the decompositions\nfig = plt.figure()\nax = fig.add_subplot(1, 3, 1)\nax.set_axis_off()\nax.imshow(to_image(image))\nax.set_title('original')\n\nax = fig.add_subplot(1, 3, 2)\nax.set_axis_off()\nax.imshow(to_image(cp_reconstruction))\nax.set_title('CP')\n\nax = fig.add_subplot(1, 3, 3)\nax.set_axis_off()\nax.imshow(to_image(tucker_reconstruction))\nax.set_title('Tucker')\n\nplt.tight_layout()\nplt.show()"
      ]
    }
  ],
  "metadata": {
    "kernelspec": {
      "display_name": "Python 3",
      "language": "python",
      "name": "python3"
    },
    "language_info": {
      "codemirror_mode": {
        "name": "ipython",
        "version": 3
      },
      "file_extension": ".py",
      "mimetype": "text/x-python",
      "name": "python",
      "nbconvert_exporter": "python",
      "pygments_lexer": "ipython3",
      "version": "3.9.17"
    }
  },
  "nbformat": 4,
  "nbformat_minor": 0
}
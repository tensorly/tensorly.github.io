{
  "cells": [
    {
      "cell_type": "markdown",
      "metadata": {},
      "source": [
        "\n# Using line search with PARAFAC\n\nExample on how to use :func:`tensorly.decomposition.parafac` with line search to accelerate convergence.\n"
      ]
    },
    {
      "cell_type": "code",
      "execution_count": null,
      "metadata": {
        "collapsed": false
      },
      "outputs": [],
      "source": [
        "import matplotlib.pyplot as plt\n\nfrom time import time\nimport numpy as np\nimport tensorly as tl\nfrom tensorly.random import random_cp\nfrom tensorly.decomposition import CP, parafac\n\ntol = np.logspace(-1, -9)\nerr = np.empty_like(tol)\nerr_ls = np.empty_like(tol)\ntt = np.empty_like(tol)\ntt_ls = np.empty_like(tol)\ntensor = random_cp((10, 10, 10), 3, random_state=1234, full=True)\n\n# Get a high-accuracy decomposition for comparison\nfac = parafac(tensor, rank=3, n_iter_max=2000000, tol=1.0e-15, linesearch=True)\nerr_min = tl.norm(tl.cp_to_tensor(fac) - tensor)\n\nfor ii, toll in enumerate(tol):\n    # Run PARAFAC decomposition without line search and time\n    start = time()\n    cp = CP(rank=3, n_iter_max=2000000, tol=toll, linesearch=False)\n    fac = cp.fit_transform(tensor)\n    tt[ii] = time() - start\n    err[ii] = tl.norm(tl.cp_to_tensor(fac) - tensor)\n\n# Run PARAFAC decomposition with line search and time\nfor ii, toll in enumerate(tol):\n    start = time()\n    cp = CP(rank=3, n_iter_max=2000000, tol=toll, linesearch=True)\n    fac_ls = cp.fit_transform(tensor)\n    tt_ls[ii] = time() - start\n\n    # Calculate the error of both decompositions\n    err_ls[ii] = tl.norm(tl.cp_to_tensor(fac_ls) - tensor)\n\n\nfig = plt.figure()\nax = fig.add_subplot(1, 1, 1)\nax.loglog(tt, err - err_min, \".\", label=\"No line search\")\nax.loglog(tt_ls, err_ls - err_min, \".r\", label=\"Line search\")\nax.legend()\nax.set_ylabel(\"Time\")\nax.set_xlabel(\"Error\")\n\nplt.show()"
      ]
    }
  ],
  "metadata": {
    "kernelspec": {
      "display_name": "Python 3",
      "language": "python",
      "name": "python3"
    },
    "language_info": {
      "codemirror_mode": {
        "name": "ipython",
        "version": 3
      },
      "file_extension": ".py",
      "mimetype": "text/x-python",
      "name": "python",
      "nbconvert_exporter": "python",
      "pygments_lexer": "ipython3",
      "version": "3.12.4"
    }
  },
  "nbformat": 4,
  "nbformat_minor": 0
}
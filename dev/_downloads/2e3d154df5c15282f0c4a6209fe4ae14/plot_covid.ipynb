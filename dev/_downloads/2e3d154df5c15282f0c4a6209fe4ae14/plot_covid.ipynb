{
  "cells": [
    {
      "cell_type": "markdown",
      "metadata": {},
      "source": [
        "\n# COVID-19 Serology Dataset Analysis with CP\n\nApply CP decomposition to COVID-19 Serology Dataset\n"
      ]
    },
    {
      "cell_type": "code",
      "execution_count": null,
      "metadata": {
        "collapsed": false
      },
      "outputs": [],
      "source": [
        "# sphinx_gallery_thumbnail_number = 2"
      ]
    },
    {
      "cell_type": "markdown",
      "metadata": {},
      "source": [
        "## Introduction\nPARAFAC (CP) decomposition is extremely useful in dimensionality reduction, allowing us\nto develop models that are both representative and compact while retaining crucial patterns\nbetween subjects. Here, we provide an example of how it can be applied to biomedical research.\n\nSystems serology is a new technology that examines the antibodies from a patient's serum, aiming\nto comprehensively profile the interactions between the antibodies and\n[Fc receptors](https://en.wikipedia.org/wiki/Fc_receptor) alongside other types of immunological\nand demographic data. Here, we will apply CP decomposition to a\n[COVID-19 system serology dataset](https://www.sciencedirect.com/science/article/pii/S0092867420314598). \nIn this dataset, serum antibodies\nof 438 samples collected from COVID-19 patients were systematically profiled by their binding behavior\nto SARS-CoV-2 (the virus that causes COVID-19) antigens and Fc receptors activities. Samples are\nlabeled by the status of the patients.\n\nDetails of this analysis as well as more in-depth biological implications can be found in\n[this work](https://www.embopress.org/doi/full/10.15252/msb.202110243). It also includes applying\ntensor methods to HIV systems serology measurements and using them to predict patient status.\n\nWe first import this dataset of a panel of COVID-19 patients:\n\n"
      ]
    },
    {
      "cell_type": "code",
      "execution_count": null,
      "metadata": {
        "collapsed": false
      },
      "outputs": [],
      "source": [
        "import numpy as np\nimport tensorly as tl\nfrom tensorly.decomposition import parafac\nfrom tensorly.datasets.data_imports import load_covid19_serology\nfrom matplotlib import pyplot as plt\nfrom matplotlib.cm import ScalarMappable\n\ndata = load_covid19_serology()"
      ]
    },
    {
      "cell_type": "markdown",
      "metadata": {},
      "source": [
        "## Apply CP decomposition to this dataset with Tensorly\nNow we apply CP decomposition to this dataset.\n\n"
      ]
    },
    {
      "cell_type": "code",
      "execution_count": null,
      "metadata": {
        "collapsed": false
      },
      "outputs": [],
      "source": [
        "comps = np.arange(1, 7)\nCMTFfacs = [parafac(data.tensor, cc, tol=1e-10, n_iter_max=1000,\n                    linesearch=True, orthogonalise=2) for cc in comps]"
      ]
    },
    {
      "cell_type": "markdown",
      "metadata": {},
      "source": [
        "To evaluate how well CP decomposition explains the variance in the dataset, we plot the percent\nvariance reconstructed (R2X) for a range of ranks.\n\n"
      ]
    },
    {
      "cell_type": "code",
      "execution_count": null,
      "metadata": {
        "collapsed": false
      },
      "outputs": [],
      "source": [
        "def reconstructed_variance(tFac, tIn=None):\n    \"\"\" This function calculates the amount of variance captured (R2X) by the tensor method. \"\"\"\n    tMask = np.isfinite(tIn)\n    vTop = np.sum(np.square(tl.cp_to_tensor(tFac) * tMask - np.nan_to_num(tIn)))\n    vBottom = np.sum(np.square(np.nan_to_num(tIn)))\n    return 1.0 - vTop / vBottom\n\nfig1 = plt.figure()\nCMTFR2X = np.array([reconstructed_variance(f, data.tensor) for f in CMTFfacs])\nplt.plot(comps, CMTFR2X, \"bo\")\nplt.xlabel(\"Number of Components\")\nplt.ylabel(\"Variance Explained (R2X)\")\nplt.gca().set_xlim([0.0, np.amax(comps) + 0.5])\nplt.gca().set_ylim([0, 1])"
      ]
    },
    {
      "cell_type": "markdown",
      "metadata": {},
      "source": [
        "## Inspect the biological insights from CP components\nEventually, we wish CP decomposition can bring insights to this dataset. For example, in this\ncase, revealing the underlying trend of COVID-19 serum-level immunity. To do this, we can inspect\nhow each component looks like on weights.\n\n"
      ]
    },
    {
      "cell_type": "code",
      "execution_count": null,
      "metadata": {
        "collapsed": false
      },
      "outputs": [],
      "source": [
        "tfac = CMTFfacs[1]\n\n# Ensure that factors are negative on at most one direction.\ntfac.factors[1][:, 0] *= -1\ntfac.factors[2][:, 0] *= -1\n\nfig2, ax = plt.subplots(1, 3, figsize=(16,6))\nfor ii in [0,1,2]:\n    fac = tfac.factors[ii]\n    scales = np.linalg.norm(fac, ord=np.inf, axis=0)\n    fac /= scales\n\n    ax[ii].imshow(fac, cmap=\"PiYG\", vmin=-1, vmax=1)\n    ax[ii].set_xticks([0, 1])\n    ax[ii].set_xticklabels([\"Comp. 1\", \"Comp. 2\"])\n    ax[ii].set_yticks(range(len(data.ticks[ii])))\n    if ii == 0:\n        ax[0].set_yticklabels([data.ticks[0][i] if i==0 or data.ticks[0][i]!=data.ticks[0][i-1]\n                               else \"\" for i in range(len(data.ticks[0]))])\n    else:\n        ax[ii].set_yticklabels(data.ticks[ii])\n    ax[ii].set_title(data.dims[ii])\n    ax[ii].set_aspect('auto')\n\nfig2.colorbar(ScalarMappable(norm=plt.Normalize(-1, 1), cmap=\"PiYG\"))"
      ]
    },
    {
      "cell_type": "markdown",
      "metadata": {},
      "source": [
        "From the results, we can see that serum COVID-19 immunity separates into two distinct signals,\nrepresented by two CP components: a clear acute response with IgG3, IgM, and IgA, and a long-term,\nIgG1-specific response. Samples from patients with different symptoms can be distinguished from\nthese two components. This indicates that CP decomposition is a great tool to find these biologically\nsignificant signals.\n\n"
      ]
    },
    {
      "cell_type": "markdown",
      "metadata": {},
      "source": [
        "## References\n[1] Tan, Z. C., Murphy, M. C., Alpay, H. S., Taylor, S. D., & Meyer, A. S. (2021). Tensor\u2010structured\n    decomposition improves systems serology analysis. Molecular systems biology, 17(9), e10243.\n    [](https://www.embopress.org/doi/full/10.15252/msb.202110243)\n\n[2] Zohar, T., Loos, C., Fischinger, S., Atyeo, C., Wang, C., Slein, M. D., ... & Alter, G. (2020).\n    Compromised humoral functional evolution tracks with SARS-CoV-2 mortality. Cell, 183(6), 1508-1519.\n    [](https://www.sciencedirect.com/science/article/pii/S0092867420314598)\n\n"
      ]
    }
  ],
  "metadata": {
    "kernelspec": {
      "display_name": "Python 3",
      "language": "python",
      "name": "python3"
    },
    "language_info": {
      "codemirror_mode": {
        "name": "ipython",
        "version": 3
      },
      "file_extension": ".py",
      "mimetype": "text/x-python",
      "name": "python",
      "nbconvert_exporter": "python",
      "pygments_lexer": "ipython3",
      "version": "3.9.17"
    }
  },
  "nbformat": 4,
  "nbformat_minor": 0
}
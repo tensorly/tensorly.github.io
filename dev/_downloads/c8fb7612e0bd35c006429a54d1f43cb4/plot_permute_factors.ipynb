{
  "cells": [
    {
      "cell_type": "code",
      "execution_count": null,
      "metadata": {
        "collapsed": false
      },
      "outputs": [],
      "source": [
        "%matplotlib inline"
      ]
    },
    {
      "cell_type": "markdown",
      "metadata": {},
      "source": [
        "\n# Permuting CP factors\nOn this page, you will find examples showing how to use tensorly.cp_tensor.cp_permute_factors function.\n"
      ]
    },
    {
      "cell_type": "markdown",
      "metadata": {},
      "source": [
        "## Introduction\nThis function compares factors of a reference cp tensor with factors of another tensor\n(or list of tensor) in order to match component order. Permutation occurs on the columns of factors,\nminimizing the cosine distance to reference cp tensor with scipy Linear Sum Assignment method.\nThe permuted tensor (or list of tensors) and list of permutation for each permuted tensors are returned.\nTensorly CPTensor should be used as an input to permute their factors and weights simultaneously.\n\n"
      ]
    },
    {
      "cell_type": "code",
      "execution_count": null,
      "metadata": {
        "collapsed": false
      },
      "outputs": [],
      "source": [
        "import tensorly as tl\nfrom tensorly.random import random_cp\nfrom tensorly.cp_tensor import cp_permute_factors\nimport matplotlib.pyplot as plt"
      ]
    },
    {
      "cell_type": "markdown",
      "metadata": {},
      "source": [
        "## Create synthetic tensor\nHere, we create a random tensor, then we permute its factors manually.\n\n"
      ]
    },
    {
      "cell_type": "code",
      "execution_count": null,
      "metadata": {
        "collapsed": false
      },
      "outputs": [],
      "source": [
        "shape = (30, 40, 50)\nrank = 4\n\n# one reference cp tensor\ncp_tensor_1 = random_cp(shape, rank)\n\n# two target cp tensors\ncp_tensor_2 = cp_tensor_1.cp_copy()\ncp_tensor_3 = cp_tensor_1.cp_copy()\n\ncol_order_1 = [1, 0, 3, 2]\nfor f in range(3):\n    cp_tensor_2.factors[f] = cp_tensor_2.factors[f][:, col_order_1]\n\ncol_order_2 = [3, 1, 2, 0]\nfor f in range(3):\n    cp_tensor_3.factors[f] = cp_tensor_3.factors[f][:, col_order_2]"
      ]
    },
    {
      "cell_type": "markdown",
      "metadata": {},
      "source": [
        "## Permute target CPTensors\nNow, we can use these two manipulated CPTensors as inputs to the permutation function. Here,\ncp_tensor_1 will be used as a reference to permute other CPTensors, which are called target CPTensors.\nThere is no limitation for the number of target CPTensors but there should be only one reference CPTensor.\nResults will include permuted CPTensors and permutation for each permuted cp tensor.\nIt should be noted that, reference CPTensor won't be included among the output CPTensors.\n\n"
      ]
    },
    {
      "cell_type": "code",
      "execution_count": null,
      "metadata": {
        "collapsed": false
      },
      "outputs": [],
      "source": [
        "cp_tensors, permutation = cp_permute_factors(cp_tensor_1, [cp_tensor_2, cp_tensor_3])"
      ]
    },
    {
      "cell_type": "markdown",
      "metadata": {},
      "source": [
        "As it is expected, permutation variable stores two lists which are equal to predefined col_order_1\ncol_order_2 above.\n\n"
      ]
    },
    {
      "cell_type": "code",
      "execution_count": null,
      "metadata": {
        "collapsed": false
      },
      "outputs": [],
      "source": [
        "print(permutation)"
      ]
    },
    {
      "cell_type": "markdown",
      "metadata": {},
      "source": [
        "We can also observe the evolution of the factor columns order by plotting one column\nbefore and after permuting.\n\n"
      ]
    },
    {
      "cell_type": "code",
      "execution_count": null,
      "metadata": {
        "collapsed": false
      },
      "outputs": [],
      "source": [
        "fig, axs = plt.subplots(1, 3)\nplt.subplots_adjust(hspace=1.5)\nfig.set_size_inches(15, fig.get_figheight(), forward=True)\naxs[0].plot(cp_tensor_1.factors[0][:, 0].T)\naxs[0].set_title(\"Reference cp tensor\")\naxs[1].plot(cp_tensor_2.factors[0][:, 0].T)\naxs[1].set_title(\"Target cp tensor\")\naxs[2].plot(cp_tensors[0].factors[0][:, 0].T)\naxs[2].set_title(\"Permuted cp tensor\")"
      ]
    }
  ],
  "metadata": {
    "kernelspec": {
      "display_name": "Python 3",
      "language": "python",
      "name": "python3"
    },
    "language_info": {
      "codemirror_mode": {
        "name": "ipython",
        "version": 3
      },
      "file_extension": ".py",
      "mimetype": "text/x-python",
      "name": "python",
      "nbconvert_exporter": "python",
      "pygments_lexer": "ipython3",
      "version": "3.8.13"
    }
  },
  "nbformat": 4,
  "nbformat_minor": 0
}